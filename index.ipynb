{
 "cells": [
  {
   "cell_type": "markdown",
   "metadata": {},
   "source": [
    "# Project: Analyzing Macbeth"
   ]
  },
  {
   "cell_type": "markdown",
   "metadata": {},
   "source": [
    "## Introduction\n",
    "For our first day and first data science project, we're going to do some rudimentry analysis of Shakespeare's classic play: Macbeth! You will get practice working with lists, condtionals and dictionaries, visualizing data, and thinking analytically about data."
   ]
  },
  {
   "cell_type": "markdown",
   "metadata": {},
   "source": [
    "## Objectives\n",
    "You will be able to:\n",
    "* Show mastery of the content covered in this section"
   ]
  },
  {
   "cell_type": "markdown",
   "metadata": {},
   "source": [
    "### Getting the Data\n",
    "Here we start by importing a python package and using it to pull the transcript of Macbeth from the project Gutenberg website. We also preview a few details about what is now stored in the variable macbeth; it's a string with 119,846 characters, the first 500 of which are printed below. "
   ]
  },
  {
   "cell_type": "code",
   "execution_count": 3,
   "metadata": {},
   "outputs": [
    {
     "name": "stdout",
     "output_type": "stream",
     "text": [
      "<class 'str'>\n",
      "119846\n",
      "﻿***The Project Gutenberg's Etext of Shakespeare's First Folio***\r\n",
      "********************The Tragedie of Macbeth*********************\r\n",
      "\r\n",
      "This is our 3rd edition of most of these plays.  See the index.\r\n",
      "\r\n",
      "\r\n",
      "Copyright laws are changing all over the world, be sure to check\r\n",
      "the copyright laws for your country before posting these files!!\r\n",
      "\r\n",
      "Please take a look at the important information in this header.\r\n",
      "We encourage you to keep this file on your own disk, keeping an\r\n",
      "electronic path open for the next readers.  Do not remove this.\r\n",
      "\r\n",
      "\r\n",
      "**Welcome To The World of Free Plain Vanilla Electronic Texts**\r\n",
      "\r\n",
      "**Etexts Readable By Both Humans and By Computers, Since 1971**\r\n",
      "\r\n",
      "*These Etexts Prepared By Hundreds of Volunteers and Donations*\r\n",
      "\r\n",
      "Information on contacting Project Gutenberg to get Etexts, and\r\n",
      "further information is included below.  We need your donations.\r\n",
      "\r\n",
      "\r\n",
      "The Tragedie of Macbeth\r\n",
      "\r\n",
      "by William Shakespeare\r\n",
      "\r\n",
      "July, 2000  [Etext #2264]\r\n",
      "\r\n",
      "\r\n",
      "***The Project Gutenberg's Etext of Shakespeare's First Folio***\r\n",
      "********************The Tragedie of Macbeth*********************\r\n",
      "\r\n",
      "*****This file should be named 2264.txt or 2264.zip******\r\n",
      "\r\n",
      "Project Gutenberg Etexts are usually created from multiple editions,\r\n",
      "all of which are in the Public Domain in the United States, unless a\r\n",
      "copyright notice is included.  Therefore, we usually do NOT keep any\r\n",
      "of these books in compliance with any particular paper edition.\r\n",
      "\r\n",
      "\r\n",
      "We are now trying to release all our books one month in advance\r\n",
      "of the official release dates, leaving time for better editing.\r\n",
      "\r\n",
      "Please note:  neither this list nor its contents are final till\r\n",
      "midnight of the last day of the month of any such announcement.\r\n",
      "The official release date of all Project Gutenberg Etexts is at\r\n",
      "Midnight, Central Time, of the last day of the stated month.  A\r\n",
      "preliminary version may often be posted for suggestion, comment\r\n",
      "and editing by those who wish to do so.  To be sure you have an\r\n",
      "up to date first edition [xxxxx10x.xxx] please check file sizes\r\n",
      "in the first week of the next month.  Since our ftp program has\r\n",
      "a bug in it that scrambles the date [tried to fix and failed] a\r\n",
      "look at the file size will have to do, but we will try to see a\r\n",
      "new copy has at least one byte more or less.\r\n",
      "\r\n",
      "\r\n",
      "Information about Project Gutenberg (one page)\r\n",
      "\r\n",
      "We produce about two million dollars for each hour we work.  The\r\n",
      "time it takes us, a rather conservative estimate, is fifty hours\r\n",
      "to get any etext selected, entered, proofread, edited, copyright\r\n",
      "searched and analyzed, the copyright letters written, etc.  This\r\n",
      "projected audience is one hundred million readers.  If our value\r\n",
      "per text is nominally estimated at one dollar then we produce $2\r\n",
      "million dollars per hour this year as we release thirty-six text\r\n",
      "files per month, or 432 more Etexts in 1999 for a total of 2000+\r\n",
      "If these reach just 10% of the computerized population, then the\r\n",
      "total should reach over 200 billion Etexts given away this year.\r\n",
      "\r\n",
      "The Goal of Project Gutenberg is to Give Away One Trillion Etext\r\n",
      "Files by December 31, 2001.  [10,000 x 100,000,000 = 1 Trillion]\r\n",
      "This is ten thousand titles each to one hundred million readers,\r\n",
      "which is only ~5% of the present number of computer users.\r\n",
      "\r\n",
      "At our revised rates of production, we will reach only one-third\r\n",
      "of that goal by the end of 2001, or about 3,333 Etexts unless we\r\n",
      "manage to get some real funding; currently our funding is mostly\r\n",
      "from Michael Hart's salary at Carnegie-Mellon University, and an\r\n",
      "assortment of sporadic gifts; this salary is only good for a few\r\n",
      "more years, so we are looking for something to replace it, as we\r\n",
      "don't want Project Gutenberg to be so dependent on one person.\r\n",
      "\r\n",
      "We need your donations more than ever!\r\n",
      "\r\n",
      "\r\n",
      "All donations should be made to \"Project Gutenberg/CMU\": and are\r\n",
      "tax deductible to the extent allowable by law.  (CMU = Carnegie-\r\n",
      "Mellon University).\r\n",
      "\r\n",
      "For these and other matters, please mail to:\r\n",
      "\r\n",
      "Project Gutenberg\r\n",
      "P. O. Box  2782\r\n",
      "Champaign, IL 61825\r\n",
      "\r\n",
      "When all other email fails. . .try our Executive Director:\r\n",
      "Michael S. Hart <hart@pobox.com>\r\n",
      "hart@pobox.com forwards to hart@prairienet.org and archive.org\r\n",
      "if your mail bounces from archive.org, I will still see it, if\r\n",
      "it bounces from prairienet.org, better resend later on. . . .\r\n",
      "\r\n",
      "We would prefer to send you this information by email.\r\n",
      "\r\n",
      "******\r\n",
      "\r\n",
      "To access Project Gutenberg etexts, use any Web browser\r\n",
      "to view http://promo.net/pg.  This site lists Etexts by\r\n",
      "author and by title, and includes information about how\r\n",
      "to get involved with Project Gutenberg.  You could also\r\n",
      "download our past Newsletters, or subscribe here.  This\r\n",
      "is one of our major sites, please email hart@pobox.com,\r\n",
      "for a more complete list of our various sites.\r\n",
      "\r\n",
      "To go directly to the etext collections, use FTP or any\r\n",
      "Web browser to visit a Project Gutenberg mirror (mirror\r\n",
      "sites are available on 7 continents; mirrors are listed\r\n",
      "at http://promo.net/pg).\r\n",
      "\r\n",
      "Mac users, do NOT point and click, typing works bette\n"
     ]
    }
   ],
   "source": [
    "import requests\n",
    "import pandas\n",
    "macbeth = requests.get('http://www.gutenberg.org/cache/epub/2264/pg2264.txt').text\n",
    "\n",
    "print(type(macbeth))\n",
    "print(len(macbeth))\n",
    "print(macbeth[0:5000])\n",
    "file = open(\"macbeth.txt\", \"w\")\n",
    "file.write(m)\n",
    "pandas.to_txt(macbeth)"
   ]
  },
  {
   "cell_type": "markdown",
   "metadata": {},
   "source": [
    "### Your Task\n",
    "\n",
    "Your task is to create a bar graph of the 25 most common words in the Shakespeare's Macbeth.  \n",
    "\n",
    "\n",
    "A common python programming pattern to counting objects, produce histograms, or update statistics is to make calls to a dictionary as you iterate through a list. For example, given a list of words, you can create a dictionary to store counts and then iterate through the list of words, checking how many times each word has appeared using your dictionary, and updating the dictionary count now that you've seen that word again. The `dictionary.get()` method is very useful in doing this. Read the docstring for the dictionary.get() method and use it along with the pseudocode above to create a bar graph of the 25 most common words from the transcript of Macbeth which has been loaded into a variable 'Macbeth'. Be sure to include a title and appropriate labels for your graph."
   ]
  },
  {
   "cell_type": "code",
   "execution_count": null,
   "metadata": {
    "collapsed": true
   },
   "outputs": [],
   "source": [
    "# Your code here\n",
    "\n",
    "# Pseudo-code Outline\n",
    "# Split the transcript into words\n",
    "# Create a dictionary\n",
    "# Iterate through the text of Macbeth\n",
    "# Update word counts\n",
    "# Create Bar Graph\n",
    "# Include descriptive titles and labels"
   ]
  },
  {
   "cell_type": "markdown",
   "metadata": {},
   "source": [
    "### Level Up (Optional)\n",
    "This project should take you about an hour and a half to complete. If you're done much more quickly than that and are not behind in the course, feel free to deepen your knowledge by completing any or all of the following tasks until you run out of time:\n",
    "* Create a list of top characters by mentions of their names \n",
    "* Split the text by which character is talking\n",
    "* Create sub graphs of the most common words by character\n",
    "* Reduce the string to the text of the play itself. (Remove any initial notes, forward, introduction, appendix, etc.)\n",
    "* Come up with some other fun analyses of the text!"
   ]
  },
  {
   "cell_type": "markdown",
   "metadata": {},
   "source": [
    "## Summary\n",
    "Congratulations! You've got some extra practice combining various data types into useful programming patterns and done an intitial analysis of a classic text!"
   ]
  }
 ],
 "metadata": {
  "kernelspec": {
   "display_name": "Python 3",
   "language": "python",
   "name": "python3"
  },
  "language_info": {
   "codemirror_mode": {
    "name": "ipython",
    "version": 3
   },
   "file_extension": ".py",
   "mimetype": "text/x-python",
   "name": "python",
   "nbconvert_exporter": "python",
   "pygments_lexer": "ipython3",
   "version": "3.6.4"
  }
 },
 "nbformat": 4,
 "nbformat_minor": 2
}
